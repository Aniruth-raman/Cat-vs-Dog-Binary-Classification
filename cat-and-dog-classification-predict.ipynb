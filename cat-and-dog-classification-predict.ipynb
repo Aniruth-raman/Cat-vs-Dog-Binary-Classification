{
 "cells": [
  {
   "cell_type": "code",
   "execution_count": null,
   "source": [
    "from keras.models import load_model\r\n",
    "import cv2\r\n",
    "import numpy as np\r\n",
    "from tensorflow.keras.optimizers import RMSprop\r\n",
    "import os\r\n",
    "from pathlib import Path\r\n",
    "import pandas as pd\r\n",
    "import tensorflow as tf\r\n",
    "import matplotlib.pyplot as plt"
   ],
   "outputs": [],
   "metadata": {}
  },
  {
   "cell_type": "code",
   "execution_count": null,
   "source": [
    "model = load_model('model.h5')\r\n",
    "model.compile(optimizer=RMSprop(learning_rate=0.01), loss = 'binary_crossentropy', metrics = 'accuracy')"
   ],
   "outputs": [],
   "metadata": {}
  },
  {
   "cell_type": "code",
   "execution_count": null,
   "source": [
    "image_dir = Path('prediction/testimages')"
   ],
   "outputs": [],
   "metadata": {
    "execution": {
     "iopub.execute_input": "2021-03-06T01:19:08.543529Z",
     "iopub.status.busy": "2021-03-06T01:19:08.541998Z",
     "iopub.status.idle": "2021-03-06T01:19:08.544206Z",
     "shell.execute_reply": "2021-03-06T01:19:08.544800Z"
    },
    "papermill": {
     "duration": 0.019105,
     "end_time": "2021-03-06T01:19:08.545000",
     "exception": false,
     "start_time": "2021-03-06T01:19:08.525895",
     "status": "completed"
    },
    "tags": []
   }
  },
  {
   "cell_type": "code",
   "execution_count": null,
   "source": [
    "file_paths = list(image_dir.glob(r'**/*.*'))\r\n",
    "\r\n",
    "file_paths = pd.Series(file_paths, name='Filepath').astype(str)\r\n",
    "\r\n",
    "test_df = pd.concat([file_paths], axis=1)"
   ],
   "outputs": [],
   "metadata": {
    "execution": {
     "iopub.execute_input": "2021-03-06T01:19:08.595295Z",
     "iopub.status.busy": "2021-03-06T01:19:08.594521Z",
     "iopub.status.idle": "2021-03-06T01:19:08.930154Z",
     "shell.execute_reply": "2021-03-06T01:19:08.929524Z"
    },
    "papermill": {
     "duration": 0.352587,
     "end_time": "2021-03-06T01:19:08.930309",
     "exception": false,
     "start_time": "2021-03-06T01:19:08.577722",
     "status": "completed"
    },
    "tags": []
   }
  },
  {
   "cell_type": "code",
   "execution_count": null,
   "source": [
    "test_generator = tf.keras.preprocessing.image.ImageDataGenerator(\r\n",
    "    rescale=1./255\r\n",
    ")"
   ],
   "outputs": [],
   "metadata": {}
  },
  {
   "cell_type": "code",
   "execution_count": null,
   "source": [
    "test_images = test_generator.flow_from_dataframe(\r\n",
    "    dataframe=test_df,\r\n",
    "    x_col='Filepath',\r\n",
    "    # y_col='Label',\r\n",
    "    target_size=(224, 224),\r\n",
    "    color_mode='rgb',\r\n",
    "    # classes = ['Cat', 'Dog'],\r\n",
    "    class_mode=None,\r\n",
    "    batch_size=32,\r\n",
    "    shuffle=False\r\n",
    ")"
   ],
   "outputs": [],
   "metadata": {}
  },
  {
   "cell_type": "code",
   "execution_count": null,
   "source": [
    "test_images.reset()"
   ],
   "outputs": [],
   "metadata": {}
  },
  {
   "cell_type": "code",
   "execution_count": null,
   "source": [
    "predictions = (model.predict(test_images) >= 0.5).astype(np.int)"
   ],
   "outputs": [],
   "metadata": {}
  },
  {
   "cell_type": "code",
   "execution_count": null,
   "source": [
    "filenames = test_images.filenames\r\n",
    "file = []\r\n",
    "for i in filenames:\r\n",
    "    file.append(int(os.path.splitext(os.path.basename(i))[0]))"
   ],
   "outputs": [],
   "metadata": {}
  },
  {
   "cell_type": "code",
   "execution_count": null,
   "source": [
    "result = pd.DataFrame({\r\n",
    "    \"ImgID\":file,\r\n",
    "    \"Category\":predictions[:,0]\r\n",
    "})"
   ],
   "outputs": [],
   "metadata": {}
  },
  {
   "cell_type": "code",
   "execution_count": null,
   "source": [
    "result.Category.replace({0:'Cat',1:'Dog'},inplace=True)"
   ],
   "outputs": [],
   "metadata": {}
  },
  {
   "cell_type": "code",
   "execution_count": null,
   "source": [
    "result.sort_values('ImgID',inplace=True)\r\n",
    "result.reset_index(drop=True,inplace=True)"
   ],
   "outputs": [],
   "metadata": {}
  },
  {
   "cell_type": "code",
   "execution_count": null,
   "source": [
    "result.to_csv('prediction.csv',index=False)"
   ],
   "outputs": [],
   "metadata": {}
  }
 ],
 "metadata": {
  "orig_nbformat": 4,
  "language_info": {
   "name": "python",
   "version": "3.9.6",
   "mimetype": "text/x-python",
   "codemirror_mode": {
    "name": "ipython",
    "version": 3
   },
   "pygments_lexer": "ipython3",
   "nbconvert_exporter": "python",
   "file_extension": ".py"
  },
  "kernelspec": {
   "name": "python3",
   "display_name": "Python 3.9.6 64-bit ('venv': venv)"
  },
  "interpreter": {
   "hash": "22ca0c9dffc0cdd647d44ecb47206356c9c6185eb11e89b65a7690d509a29226"
  }
 },
 "nbformat": 4,
 "nbformat_minor": 2
}