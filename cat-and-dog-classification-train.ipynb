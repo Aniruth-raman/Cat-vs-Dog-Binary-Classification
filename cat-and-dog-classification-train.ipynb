{
 "cells": [
  {
   "cell_type": "markdown",
   "source": [
    "# Cat and Dog Classification  \n",
    "***"
   ],
   "metadata": {
    "papermill": {
     "duration": 0.0113,
     "end_time": "2021-03-06T01:19:02.189165",
     "exception": false,
     "start_time": "2021-03-06T01:19:02.177865",
     "status": "completed"
    },
    "tags": []
   }
  },
  {
   "cell_type": "markdown",
   "source": [
    "# Getting Started"
   ],
   "metadata": {
    "papermill": {
     "duration": 0.009648,
     "end_time": "2021-03-06T01:19:02.209342",
     "exception": false,
     "start_time": "2021-03-06T01:19:02.199694",
     "status": "completed"
    },
    "tags": []
   }
  },
  {
   "cell_type": "code",
   "execution_count": null,
   "source": [
    "import os.path\r\n",
    "from pathlib import Path\r\n",
    "import matplotlib.pyplot as plt\r\n",
    "import numpy as np\r\n",
    "import pandas as pd\r\n",
    "import seaborn as sns\r\n",
    "import tensorflow as tf\r\n",
    "from sklearn.metrics import confusion_matrix, classification_report\r\n",
    "from sklearn.model_selection import train_test_split\r\n",
    "from tensorflow.keras.applications import MobileNetV2\r\n",
    "from tensorflow.keras.layers import Dense\r\n",
    "from tensorflow.keras.models import Sequential\r\n",
    "from tensorflow.keras.optimizers import RMSprop"
   ],
   "outputs": [],
   "metadata": {
    "execution": {
     "iopub.execute_input": "2021-03-06T01:19:02.235414Z",
     "iopub.status.busy": "2021-03-06T01:19:02.234741Z",
     "iopub.status.idle": "2021-03-06T01:19:08.513867Z",
     "shell.execute_reply": "2021-03-06T01:19:08.512431Z"
    },
    "papermill": {
     "duration": 6.294965,
     "end_time": "2021-03-06T01:19:08.514152",
     "exception": false,
     "start_time": "2021-03-06T01:19:02.219187",
     "status": "completed"
    },
    "tags": []
   }
  },
  {
   "cell_type": "code",
   "execution_count": null,
   "source": [
    "image_dir = Path('training dataset')"
   ],
   "outputs": [],
   "metadata": {
    "execution": {
     "iopub.execute_input": "2021-03-06T01:19:08.543529Z",
     "iopub.status.busy": "2021-03-06T01:19:08.541998Z",
     "iopub.status.idle": "2021-03-06T01:19:08.544206Z",
     "shell.execute_reply": "2021-03-06T01:19:08.544800Z"
    },
    "papermill": {
     "duration": 0.019105,
     "end_time": "2021-03-06T01:19:08.545000",
     "exception": false,
     "start_time": "2021-03-06T01:19:08.525895",
     "status": "completed"
    },
    "tags": []
   }
  },
  {
   "cell_type": "markdown",
   "source": [
    "# Create File DataFrame"
   ],
   "metadata": {
    "papermill": {
     "duration": 0.010663,
     "end_time": "2021-03-06T01:19:08.566689",
     "exception": false,
     "start_time": "2021-03-06T01:19:08.556026",
     "status": "completed"
    },
    "tags": []
   }
  },
  {
   "cell_type": "code",
   "execution_count": null,
   "source": [
    "file_paths = list(image_dir.glob(r'**/*.jpg'))\r\n",
    "labels = list(map(lambda x: 'Cat' if (os.path.split(os.path.split(x)[1])[1][0].isupper()) else 'Dog', file_paths))\r\n",
    "\r\n",
    "file_paths = pd.Series(file_paths, name='Filepath').astype(str)\r\n",
    "labels = pd.Series(labels, name='Label')\r\n",
    "\r\n",
    "image_df = pd.concat([file_paths, labels], axis=1)"
   ],
   "outputs": [],
   "metadata": {
    "execution": {
     "iopub.execute_input": "2021-03-06T01:19:08.595295Z",
     "iopub.status.busy": "2021-03-06T01:19:08.594521Z",
     "iopub.status.idle": "2021-03-06T01:19:08.930154Z",
     "shell.execute_reply": "2021-03-06T01:19:08.929524Z"
    },
    "papermill": {
     "duration": 0.352587,
     "end_time": "2021-03-06T01:19:08.930309",
     "exception": false,
     "start_time": "2021-03-06T01:19:08.577722",
     "status": "completed"
    },
    "tags": []
   }
  },
  {
   "cell_type": "code",
   "execution_count": null,
   "source": [
    "image_df"
   ],
   "outputs": [],
   "metadata": {
    "execution": {
     "iopub.execute_input": "2021-03-06T01:19:08.962356Z",
     "iopub.status.busy": "2021-03-06T01:19:08.961457Z",
     "iopub.status.idle": "2021-03-06T01:19:08.979782Z",
     "shell.execute_reply": "2021-03-06T01:19:08.980278Z"
    },
    "papermill": {
     "duration": 0.038785,
     "end_time": "2021-03-06T01:19:08.980451",
     "exception": false,
     "start_time": "2021-03-06T01:19:08.941666",
     "status": "completed"
    },
    "tags": []
   }
  },
  {
   "cell_type": "code",
   "execution_count": null,
   "source": [
    "train_df, test_df = train_test_split(image_df, train_size=0.7, shuffle=True, random_state=1)"
   ],
   "outputs": [],
   "metadata": {
    "execution": {
     "iopub.execute_input": "2021-03-06T01:19:09.012359Z",
     "iopub.status.busy": "2021-03-06T01:19:09.010412Z",
     "iopub.status.idle": "2021-03-06T01:19:09.013203Z",
     "shell.execute_reply": "2021-03-06T01:19:09.013670Z"
    },
    "papermill": {
     "duration": 0.021244,
     "end_time": "2021-03-06T01:19:09.013819",
     "exception": false,
     "start_time": "2021-03-06T01:19:08.992575",
     "status": "completed"
    },
    "tags": []
   }
  },
  {
   "cell_type": "markdown",
   "source": [
    "# Load Image Data"
   ],
   "metadata": {
    "papermill": {
     "duration": 0.011616,
     "end_time": "2021-03-06T01:19:09.037362",
     "exception": false,
     "start_time": "2021-03-06T01:19:09.025746",
     "status": "completed"
    },
    "tags": []
   }
  },
  {
   "cell_type": "code",
   "execution_count": null,
   "source": [
    "train_generator = tf.keras.preprocessing.image.ImageDataGenerator(\r\n",
    "    rescale=1./255,\r\n",
    "    horizontal_flip=True,\r\n",
    "    width_shift_range=0.2,\r\n",
    "    height_shift_range=0.2,\r\n",
    "    validation_split=0.2\r\n",
    ")\r\n",
    "\r\n",
    "test_generator = tf.keras.preprocessing.image.ImageDataGenerator(\r\n",
    "    rescale=1./255\r\n",
    ")"
   ],
   "outputs": [],
   "metadata": {
    "execution": {
     "iopub.execute_input": "2021-03-06T01:19:09.069964Z",
     "iopub.status.busy": "2021-03-06T01:19:09.067856Z",
     "iopub.status.idle": "2021-03-06T01:19:09.070762Z",
     "shell.execute_reply": "2021-03-06T01:19:09.071276Z"
    },
    "papermill": {
     "duration": 0.022091,
     "end_time": "2021-03-06T01:19:09.071425",
     "exception": false,
     "start_time": "2021-03-06T01:19:09.049334",
     "status": "completed"
    },
    "tags": []
   }
  },
  {
   "cell_type": "code",
   "execution_count": null,
   "source": [
    "train_images = train_generator.flow_from_dataframe(\r\n",
    "    dataframe=train_df,\r\n",
    "    x_col='Filepath',\r\n",
    "    y_col='Label',\r\n",
    "    target_size=(224, 224),\r\n",
    "    color_mode='rgb',\r\n",
    "    classes = ['Cat', 'Dog'],\r\n",
    "    class_mode='binary',\r\n",
    "    batch_size=32,\r\n",
    "    shuffle=True,\r\n",
    "    seed=42,\r\n",
    "    subset='training'\r\n",
    ")\r\n",
    "\r\n",
    "val_images = train_generator.flow_from_dataframe(\r\n",
    "    dataframe=train_df,\r\n",
    "    x_col='Filepath',\r\n",
    "    y_col='Label',\r\n",
    "    target_size=(224, 224),\r\n",
    "    color_mode='rgb',\r\n",
    "    classes = ['Cat', 'Dog'],\r\n",
    "    class_mode='binary',\r\n",
    "    batch_size=32,\r\n",
    "    shuffle=True,\r\n",
    "    seed=42,\r\n",
    "    subset='validation'\r\n",
    ")\r\n",
    "\r\n",
    "test_images = test_generator.flow_from_dataframe(\r\n",
    "    dataframe=test_df,\r\n",
    "    x_col='Filepath',\r\n",
    "    y_col='Label',\r\n",
    "    target_size=(224, 224),\r\n",
    "    color_mode='rgb',\r\n",
    "    classes = ['Cat', 'Dog'],\r\n",
    "    class_mode='binary',\r\n",
    "    batch_size=32,\r\n",
    "    shuffle=False\r\n",
    ")"
   ],
   "outputs": [],
   "metadata": {
    "execution": {
     "iopub.execute_input": "2021-03-06T01:19:09.110936Z",
     "iopub.status.busy": "2021-03-06T01:19:09.109923Z",
     "iopub.status.idle": "2021-03-06T01:19:09.159676Z",
     "shell.execute_reply": "2021-03-06T01:19:09.160287Z"
    },
    "papermill": {
     "duration": 0.076711,
     "end_time": "2021-03-06T01:19:09.160505",
     "exception": false,
     "start_time": "2021-03-06T01:19:09.083794",
     "status": "completed"
    },
    "tags": []
   }
  },
  {
   "cell_type": "markdown",
   "source": [
    "# Training"
   ],
   "metadata": {
    "papermill": {
     "duration": 0.012256,
     "end_time": "2021-03-06T01:19:09.186014",
     "exception": false,
     "start_time": "2021-03-06T01:19:09.173758",
     "status": "completed"
    },
    "tags": []
   }
  },
  {
   "cell_type": "code",
   "execution_count": null,
   "source": [
    "model = Sequential()\r\n",
    "model.add(MobileNetV2(include_top = False, weights=\"imagenet\", input_shape=(224, 224, 3)))\r\n",
    "model.add(tf.keras.layers.GlobalAveragePooling2D())\r\n",
    "model.add(Dense(1, activation = 'sigmoid'))\r\n",
    "model.layers[0].trainable = False"
   ],
   "outputs": [],
   "metadata": {}
  },
  {
   "cell_type": "code",
   "execution_count": null,
   "source": [
    "# num_of_classes = 2\r\n",
    "\r\n",
    "# model = tf.keras.Sequential([pretrained_model_without_top_layer,tf.keras.layers.Dense(num_of_classes)])\r\n",
    "\r\n",
    "model.summary()"
   ],
   "outputs": [],
   "metadata": {}
  },
  {
   "cell_type": "code",
   "execution_count": null,
   "source": [
    "model.compile(optimizer=RMSprop(learning_rate=0.01), loss = 'binary_crossentropy', metrics = 'accuracy')"
   ],
   "outputs": [],
   "metadata": {}
  },
  {
   "cell_type": "code",
   "execution_count": null,
   "source": [
    "history = model.fit(\r\n",
    "    train_images,\r\n",
    "    validation_data=val_images,\r\n",
    "    epochs=5,\r\n",
    "    callbacks=[\r\n",
    "        tf.keras.callbacks.EarlyStopping(\r\n",
    "            monitor='val_loss',\r\n",
    "            patience=5,\r\n",
    "            restore_best_weights=True\r\n",
    "        ),\r\n",
    "        tf.keras.callbacks.ReduceLROnPlateau(\r\n",
    "            monitor='val_loss',\r\n",
    "            patience=3\r\n",
    "        )\r\n",
    "    ]\r\n",
    ")"
   ],
   "outputs": [],
   "metadata": {}
  },
  {
   "cell_type": "markdown",
   "source": [
    "# Results"
   ],
   "metadata": {
    "papermill": {
     "duration": 0.113782,
     "end_time": "2021-03-06T01:22:09.522568",
     "exception": false,
     "start_time": "2021-03-06T01:22:09.408786",
     "status": "completed"
    },
    "tags": []
   }
  },
  {
   "cell_type": "code",
   "execution_count": null,
   "source": [
    "results = model.evaluate(test_images, verbose=0)\r\n",
    "\r\n",
    "print(\"    Test Loss: {:.5f}\".format(results[0]))\r\n",
    "print(\"Test Accuracy: {:.2f}%\".format(results[1] * 100))"
   ],
   "outputs": [],
   "metadata": {
    "execution": {
     "iopub.execute_input": "2021-03-06T01:22:09.769136Z",
     "iopub.status.busy": "2021-03-06T01:22:09.768502Z",
     "iopub.status.idle": "2021-03-06T01:22:13.896840Z",
     "shell.execute_reply": "2021-03-06T01:22:13.895978Z"
    },
    "papermill": {
     "duration": 4.247158,
     "end_time": "2021-03-06T01:22:13.897045",
     "exception": false,
     "start_time": "2021-03-06T01:22:09.649887",
     "status": "completed"
    },
    "tags": []
   }
  },
  {
   "cell_type": "code",
   "execution_count": null,
   "source": [
    "predictions = (model.predict(test_images) >= 0.5).astype(np.int)\r\n",
    "\r\n",
    "cm = confusion_matrix(test_images.labels, predictions, labels=[0, 1])\r\n",
    "clr = classification_report(test_images.labels, predictions, labels=[0, 1], target_names=[\"CAT\", \"DOG\"])\r\n",
    "\r\n",
    "plt.figure(figsize=(6, 6))\r\n",
    "sns.heatmap(cm, annot=True, fmt='g', vmin=0, cmap='Blues', cbar=False)\r\n",
    "plt.xticks(ticks=[0.5, 1.5], labels=[\"CAT\", \"DOG\"])\r\n",
    "plt.yticks(ticks=[0.5, 1.5], labels=[\"CAT\", \"DOG\"])\r\n",
    "plt.xlabel(\"Predicted\")\r\n",
    "plt.ylabel(\"Actual\")\r\n",
    "plt.title(\"Confusion Matrix\")\r\n",
    "plt.show()\r\n",
    "\r\n",
    "print(\"Classification Report:\\n----------------------\\n\", clr)"
   ],
   "outputs": [],
   "metadata": {
    "execution": {
     "iopub.execute_input": "2021-03-06T01:22:14.212206Z",
     "iopub.status.busy": "2021-03-06T01:22:14.210617Z",
     "iopub.status.idle": "2021-03-06T01:22:16.326347Z",
     "shell.execute_reply": "2021-03-06T01:22:16.325690Z"
    },
    "papermill": {
     "duration": 2.270814,
     "end_time": "2021-03-06T01:22:16.326523",
     "exception": false,
     "start_time": "2021-03-06T01:22:14.055709",
     "status": "completed"
    },
    "tags": []
   }
  },
  {
   "cell_type": "code",
   "execution_count": null,
   "source": [
    "model.save('model.h5')"
   ],
   "outputs": [],
   "metadata": {}
  }
 ],
 "metadata": {
  "interpreter": {
   "hash": "22ca0c9dffc0cdd647d44ecb47206356c9c6185eb11e89b65a7690d509a29226"
  },
  "kernelspec": {
   "name": "python3",
   "display_name": "Python 3.9.6 64-bit ('venv': venv)"
  },
  "language_info": {
   "codemirror_mode": {
    "name": "ipython",
    "version": 3
   },
   "file_extension": ".py",
   "mimetype": "text/x-python",
   "name": "python",
   "nbconvert_exporter": "python",
   "pygments_lexer": "ipython3",
   "version": "3.9.6"
  },
  "papermill": {
   "default_parameters": {},
   "duration": 202.740622,
   "end_time": "2021-03-06T01:22:19.798014",
   "environment_variables": {},
   "exception": null,
   "input_path": "__notebook__.ipynb",
   "output_path": "__notebook__.ipynb",
   "parameters": {},
   "start_time": "2021-03-06T01:18:57.057392",
   "version": "2.2.2"
  }
 },
 "nbformat": 4,
 "nbformat_minor": 4
}